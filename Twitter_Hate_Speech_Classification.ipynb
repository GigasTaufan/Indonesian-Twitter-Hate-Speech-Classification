{
  "nbformat": 4,
  "nbformat_minor": 0,
  "metadata": {
    "colab": {
      "name": "Twitter_Hate_Speech_Classification.ipynb",
      "provenance": [],
      "collapsed_sections": [],
      "authorship_tag": "ABX9TyO85N/1m3zpI2wRqhx2IlXr",
      "include_colab_link": true
    },
    "kernelspec": {
      "name": "python3",
      "display_name": "Python 3"
    }
  },
  "cells": [
    {
      "cell_type": "markdown",
      "metadata": {
        "id": "view-in-github",
        "colab_type": "text"
      },
      "source": [
        "<a href=\"https://colab.research.google.com/github/GigasTaufan/Indonesian-Twitter-Hate-Speech-Classification/blob/master/Twitter_Hate_Speech_Classification.ipynb\" target=\"_parent\"><img src=\"https://colab.research.google.com/assets/colab-badge.svg\" alt=\"Open In Colab\"/></a>"
      ]
    },
    {
      "cell_type": "markdown",
      "metadata": {
        "id": "OlrKQPsybwxu"
      },
      "source": [
        "# Indonesian Tweet Hate Speech Classification"
      ]
    },
    {
      "cell_type": "markdown",
      "metadata": {
        "id": "qVoio09Rb6hZ"
      },
      "source": [
        "# Import Library"
      ]
    },
    {
      "cell_type": "code",
      "metadata": {
        "id": "YMdJ2gGLirhB"
      },
      "source": [
        "import pandas as pd\n",
        "import matplotlib.pyplot as plt\n",
        "import seaborn as sns\n",
        "\n",
        "%matplotlib inline\n",
        "sns.set(style='darkgrid')"
      ],
      "execution_count": 1,
      "outputs": []
    },
    {
      "cell_type": "code",
      "metadata": {
        "colab": {
          "base_uri": "https://localhost:8080/",
          "height": 419
        },
        "id": "foC7h4Htiw1e",
        "outputId": "09d67deb-7eca-482d-bbb9-ed1b58b88193"
      },
      "source": [
        "df = pd.read_csv('IDHSD_RIO_unbalanced_713_2017.txt', sep='\\t', header=None, names=['label', 'tweet'], skiprows=1, engine='python')\n",
        "df"
      ],
      "execution_count": 2,
      "outputs": [
        {
          "output_type": "execute_result",
          "data": {
            "text/html": [
              "<div>\n",
              "<style scoped>\n",
              "    .dataframe tbody tr th:only-of-type {\n",
              "        vertical-align: middle;\n",
              "    }\n",
              "\n",
              "    .dataframe tbody tr th {\n",
              "        vertical-align: top;\n",
              "    }\n",
              "\n",
              "    .dataframe thead th {\n",
              "        text-align: right;\n",
              "    }\n",
              "</style>\n",
              "<table border=\"1\" class=\"dataframe\">\n",
              "  <thead>\n",
              "    <tr style=\"text-align: right;\">\n",
              "      <th></th>\n",
              "      <th>label</th>\n",
              "      <th>tweet</th>\n",
              "    </tr>\n",
              "  </thead>\n",
              "  <tbody>\n",
              "    <tr>\n",
              "      <th>0</th>\n",
              "      <td>Non_HS</td>\n",
              "      <td>RT @spardaxyz: Fadli Zon Minta Mendagri Segera...</td>\n",
              "    </tr>\n",
              "    <tr>\n",
              "      <th>1</th>\n",
              "      <td>Non_HS</td>\n",
              "      <td>RT @baguscondromowo: Mereka terus melukai aksi...</td>\n",
              "    </tr>\n",
              "    <tr>\n",
              "      <th>2</th>\n",
              "      <td>Non_HS</td>\n",
              "      <td>Sylvi: bagaimana gurbernur melakukan kekerasan...</td>\n",
              "    </tr>\n",
              "    <tr>\n",
              "      <th>3</th>\n",
              "      <td>Non_HS</td>\n",
              "      <td>Ahmad Dhani Tak Puas Debat Pilkada, Masalah Ja...</td>\n",
              "    </tr>\n",
              "    <tr>\n",
              "      <th>4</th>\n",
              "      <td>Non_HS</td>\n",
              "      <td>RT @lisdaulay28: Waspada KTP palsu.....kawal P...</td>\n",
              "    </tr>\n",
              "    <tr>\n",
              "      <th>...</th>\n",
              "      <td>...</td>\n",
              "      <td>...</td>\n",
              "    </tr>\n",
              "    <tr>\n",
              "      <th>708</th>\n",
              "      <td>HS</td>\n",
              "      <td>Muka Si BABi Ahok Tuh Yg Mirip SERBET Lantai.....</td>\n",
              "    </tr>\n",
              "    <tr>\n",
              "      <th>709</th>\n",
              "      <td>HS</td>\n",
              "      <td>Betul bang hancurkan merka bang, musnahkan chi...</td>\n",
              "    </tr>\n",
              "    <tr>\n",
              "      <th>710</th>\n",
              "      <td>HS</td>\n",
              "      <td>Sapa Yg bilang Ahok anti korupsi!?, klo grombo...</td>\n",
              "    </tr>\n",
              "    <tr>\n",
              "      <th>711</th>\n",
              "      <td>HS</td>\n",
              "      <td>Gw juga ngimpi SENTILIN BIJI BABI AHOK, pcetar...</td>\n",
              "    </tr>\n",
              "    <tr>\n",
              "      <th>712</th>\n",
              "      <td>HS</td>\n",
              "      <td>Mudah2an gw ketemu sama SI BABI IWAN BOPENG DI...</td>\n",
              "    </tr>\n",
              "  </tbody>\n",
              "</table>\n",
              "<p>713 rows × 2 columns</p>\n",
              "</div>"
            ],
            "text/plain": [
              "      label                                              tweet\n",
              "0    Non_HS  RT @spardaxyz: Fadli Zon Minta Mendagri Segera...\n",
              "1    Non_HS  RT @baguscondromowo: Mereka terus melukai aksi...\n",
              "2    Non_HS  Sylvi: bagaimana gurbernur melakukan kekerasan...\n",
              "3    Non_HS  Ahmad Dhani Tak Puas Debat Pilkada, Masalah Ja...\n",
              "4    Non_HS  RT @lisdaulay28: Waspada KTP palsu.....kawal P...\n",
              "..      ...                                                ...\n",
              "708      HS  Muka Si BABi Ahok Tuh Yg Mirip SERBET Lantai.....\n",
              "709      HS  Betul bang hancurkan merka bang, musnahkan chi...\n",
              "710      HS  Sapa Yg bilang Ahok anti korupsi!?, klo grombo...\n",
              "711      HS  Gw juga ngimpi SENTILIN BIJI BABI AHOK, pcetar...\n",
              "712      HS  Mudah2an gw ketemu sama SI BABI IWAN BOPENG DI...\n",
              "\n",
              "[713 rows x 2 columns]"
            ]
          },
          "metadata": {
            "tags": []
          },
          "execution_count": 2
        }
      ]
    },
    {
      "cell_type": "markdown",
      "metadata": {
        "id": "e5Vh29Fjb_oz"
      },
      "source": [
        "# Exploratory Data Analyst"
      ]
    },
    {
      "cell_type": "code",
      "metadata": {
        "colab": {
          "base_uri": "https://localhost:8080/"
        },
        "id": "oVVElTIbjSx3",
        "outputId": "7c068a86-58b9-4f56-b66e-e2c22f6008f9"
      },
      "source": [
        "df.info()"
      ],
      "execution_count": 3,
      "outputs": [
        {
          "output_type": "stream",
          "text": [
            "<class 'pandas.core.frame.DataFrame'>\n",
            "RangeIndex: 713 entries, 0 to 712\n",
            "Data columns (total 2 columns):\n",
            " #   Column  Non-Null Count  Dtype \n",
            "---  ------  --------------  ----- \n",
            " 0   label   713 non-null    object\n",
            " 1   tweet   713 non-null    object\n",
            "dtypes: object(2)\n",
            "memory usage: 11.3+ KB\n"
          ],
          "name": "stdout"
        }
      ]
    },
    {
      "cell_type": "markdown",
      "metadata": {
        "id": "PCM3PC55sFCs"
      },
      "source": [
        "Dataset terdiri dari 713 baris dan tidak terdapat null value di dalamnya."
      ]
    },
    {
      "cell_type": "code",
      "metadata": {
        "colab": {
          "base_uri": "https://localhost:8080/",
          "height": 173
        },
        "id": "sjFYBpBajUT2",
        "outputId": "018c58b9-5597-4d53-8e51-71cc03cc26e2"
      },
      "source": [
        "df.describe()"
      ],
      "execution_count": 4,
      "outputs": [
        {
          "output_type": "execute_result",
          "data": {
            "text/html": [
              "<div>\n",
              "<style scoped>\n",
              "    .dataframe tbody tr th:only-of-type {\n",
              "        vertical-align: middle;\n",
              "    }\n",
              "\n",
              "    .dataframe tbody tr th {\n",
              "        vertical-align: top;\n",
              "    }\n",
              "\n",
              "    .dataframe thead th {\n",
              "        text-align: right;\n",
              "    }\n",
              "</style>\n",
              "<table border=\"1\" class=\"dataframe\">\n",
              "  <thead>\n",
              "    <tr style=\"text-align: right;\">\n",
              "      <th></th>\n",
              "      <th>label</th>\n",
              "      <th>tweet</th>\n",
              "    </tr>\n",
              "  </thead>\n",
              "  <tbody>\n",
              "    <tr>\n",
              "      <th>count</th>\n",
              "      <td>713</td>\n",
              "      <td>713</td>\n",
              "    </tr>\n",
              "    <tr>\n",
              "      <th>unique</th>\n",
              "      <td>2</td>\n",
              "      <td>703</td>\n",
              "    </tr>\n",
              "    <tr>\n",
              "      <th>top</th>\n",
              "      <td>Non_HS</td>\n",
              "      <td>Membangun bangsa dan negara ini engga cukup de...</td>\n",
              "    </tr>\n",
              "    <tr>\n",
              "      <th>freq</th>\n",
              "      <td>453</td>\n",
              "      <td>2</td>\n",
              "    </tr>\n",
              "  </tbody>\n",
              "</table>\n",
              "</div>"
            ],
            "text/plain": [
              "         label                                              tweet\n",
              "count      713                                                713\n",
              "unique       2                                                703\n",
              "top     Non_HS  Membangun bangsa dan negara ini engga cukup de...\n",
              "freq       453                                                  2"
            ]
          },
          "metadata": {
            "tags": []
          },
          "execution_count": 4
        }
      ]
    },
    {
      "cell_type": "code",
      "metadata": {
        "colab": {
          "base_uri": "https://localhost:8080/",
          "height": 173
        },
        "id": "OT2mhKI4jV3a",
        "outputId": "e1560a7f-b87c-43ca-e1aa-7cc140442285"
      },
      "source": [
        "df.groupby('label').describe()"
      ],
      "execution_count": 5,
      "outputs": [
        {
          "output_type": "execute_result",
          "data": {
            "text/html": [
              "<div>\n",
              "<style scoped>\n",
              "    .dataframe tbody tr th:only-of-type {\n",
              "        vertical-align: middle;\n",
              "    }\n",
              "\n",
              "    .dataframe tbody tr th {\n",
              "        vertical-align: top;\n",
              "    }\n",
              "\n",
              "    .dataframe thead tr th {\n",
              "        text-align: left;\n",
              "    }\n",
              "\n",
              "    .dataframe thead tr:last-of-type th {\n",
              "        text-align: right;\n",
              "    }\n",
              "</style>\n",
              "<table border=\"1\" class=\"dataframe\">\n",
              "  <thead>\n",
              "    <tr>\n",
              "      <th></th>\n",
              "      <th colspan=\"4\" halign=\"left\">tweet</th>\n",
              "    </tr>\n",
              "    <tr>\n",
              "      <th></th>\n",
              "      <th>count</th>\n",
              "      <th>unique</th>\n",
              "      <th>top</th>\n",
              "      <th>freq</th>\n",
              "    </tr>\n",
              "    <tr>\n",
              "      <th>label</th>\n",
              "      <th></th>\n",
              "      <th></th>\n",
              "      <th></th>\n",
              "      <th></th>\n",
              "    </tr>\n",
              "  </thead>\n",
              "  <tbody>\n",
              "    <tr>\n",
              "      <th>HS</th>\n",
              "      <td>260</td>\n",
              "      <td>259</td>\n",
              "      <td>Sini lu, kami enggak mau kampung kami didatang...</td>\n",
              "      <td>2</td>\n",
              "    </tr>\n",
              "    <tr>\n",
              "      <th>Non_HS</th>\n",
              "      <td>453</td>\n",
              "      <td>444</td>\n",
              "      <td>Seharusnya mah basuki sudah bebas ya kan? #Fre...</td>\n",
              "      <td>2</td>\n",
              "    </tr>\n",
              "  </tbody>\n",
              "</table>\n",
              "</div>"
            ],
            "text/plain": [
              "       tweet                                                               \n",
              "       count unique                                                top freq\n",
              "label                                                                      \n",
              "HS       260    259  Sini lu, kami enggak mau kampung kami didatang...    2\n",
              "Non_HS   453    444  Seharusnya mah basuki sudah bebas ya kan? #Fre...    2"
            ]
          },
          "metadata": {
            "tags": []
          },
          "execution_count": 5
        }
      ]
    },
    {
      "cell_type": "markdown",
      "metadata": {
        "id": "1RamvZjVsThd"
      },
      "source": [
        "Berdasarkan deskripsi data yang dijabarkan dari atribut **label** dapat diketahui terdapat 2 kategori di dalamnya yakni Non_HS untuk \"non-hate-speech\" tweet dan HS untuk \"hate-speech\" tweet.\n"
      ]
    },
    {
      "cell_type": "markdown",
      "metadata": {
        "id": "HGbF1_WUs1wB"
      },
      "source": [
        "Selanjutnya dicoba untuk melihat apakah kedua kategori dapat dengan mudah dipisahkan berdasarkan panjang tweet."
      ]
    },
    {
      "cell_type": "code",
      "metadata": {
        "id": "UxEcIdBLjZFt"
      },
      "source": [
        "df['length'] = df['tweet'].apply(len)"
      ],
      "execution_count": 6,
      "outputs": []
    },
    {
      "cell_type": "code",
      "metadata": {
        "colab": {
          "base_uri": "https://localhost:8080/",
          "height": 344
        },
        "id": "N7ix2uue0DmA",
        "outputId": "e0a7852a-db67-409f-8dec-73fd1379fdb0"
      },
      "source": [
        "df.hist(column='length', by='label', bins=50,figsize=(12,4))"
      ],
      "execution_count": 37,
      "outputs": [
        {
          "output_type": "execute_result",
          "data": {
            "text/plain": [
              "array([<matplotlib.axes._subplots.AxesSubplot object at 0x7fb6e19202b0>,\n",
              "       <matplotlib.axes._subplots.AxesSubplot object at 0x7fb6e1935860>],\n",
              "      dtype=object)"
            ]
          },
          "metadata": {
            "tags": []
          },
          "execution_count": 37
        },
        {
          "output_type": "display_data",
          "data": {
            "image/png": "[encoded data removed]",
            "text/plain": [
              "<Figure size 864x288 with 2 Axes>"
            ]
          },
          "metadata": {
            "tags": [],
            "needs_background": "light"
          }
        }
      ]
    },
    {
      "cell_type": "markdown",
      "metadata": {
        "id": "IltDiqez0PBc"
      },
      "source": [
        "Dilihat dari panjang tweet kedua kategori hampir sama, namun pada kategori Non-Hate Speech kebanyakan memiliki tweet yang lebih panjang dari pada kategori Hate Speech.\n",
        "\n",
        "Bagaimana jika dirata-ratakan?"
      ]
    },
    {
      "cell_type": "code",
      "metadata": {
        "colab": {
          "base_uri": "https://localhost:8080/",
          "height": 302
        },
        "id": "FqNzwGRhjauh",
        "outputId": "28e449fe-8d0b-45b8-a147-046777db8c55"
      },
      "source": [
        "fig1 = sns.barplot(x='label',y='length',data = df)\n",
        "plt.title('Average Word Length vs label')\n",
        "plot = fig1.get_figure()"
      ],
      "execution_count": 32,
      "outputs": [
        {
          "output_type": "display_data",
          "data": {
            "image/png": "[encoded data removed]",
            "text/plain": [
              "<Figure size 432x288 with 1 Axes>"
            ]
          },
          "metadata": {
            "tags": [],
            "needs_background": "light"
          }
        }
      ]
    },
    {
      "cell_type": "markdown",
      "metadata": {
        "id": "uCju623IcK5a"
      },
      "source": [
        "Berdasarkan rata-rata dari panjang tweet, tweet yang termasuk dalam kategori Non-Hate Speech memiliki rata-rata panjang yang lebih pendek dibanding dengan tweet yang termasuk dalam kategori Hate Speech. Namun hal itu belum tentu juga dikarenakan selisih yang sedikit.\n"
      ]
    },
    {
      "cell_type": "code",
      "metadata": {
        "colab": {
          "base_uri": "https://localhost:8080/",
          "height": 302
        },
        "id": "bWLvMwwxjbmA",
        "outputId": "e354ad8e-16dc-41f9-d429-0f6afffa5c94"
      },
      "source": [
        "fig2 = sns.countplot(x= 'label',data = df)\n",
        "plt.title('Label Counts')\n",
        "plot = fig2.get_figure()"
      ],
      "execution_count": 8,
      "outputs": [
        {
          "output_type": "display_data",
          "data": {
            "image/png": "[encoded data removed]",
            "text/plain": [
              "<Figure size 432x288 with 1 Axes>"
            ]
          },
          "metadata": {
            "tags": [],
            "needs_background": "light"
          }
        }
      ]
    },
    {
      "cell_type": "markdown",
      "metadata": {
        "id": "-Q-X1Bg4chTD"
      },
      "source": [
        "Jumlah tweet yang termasuk kategori Non-Hate Speech lebih banyak daripada yang masuk ke dalam kategori Hate Speech."
      ]
    },
    {
      "cell_type": "markdown",
      "metadata": {
        "id": "cL5H48-fp3mb"
      },
      "source": [
        "# Text Processing\n"
      ]
    },
    {
      "cell_type": "markdown",
      "metadata": {
        "id": "l-NFTXM7p8_K"
      },
      "source": [
        "## Over-Sampling Minority Class\n",
        "\n",
        "Berdasarkan eksplorasi yang dilakukan, jumlah tweet yang masuk pada kategori Non-Hate Speech memiliki jumlah lebih banyak sehingga dataset tidak seimbang.\n",
        "\n",
        "Untuk dapat mengatasi permasalahan tersebut maka dilakukan proses over-sampling yakni dengan menambah jumlah data pada kategori Hate Speech dengan melakukan copy data hingga jumlah kedua kategori sama.\n"
      ]
    },
    {
      "cell_type": "code",
      "metadata": {
        "id": "GOmGzeM_nehI"
      },
      "source": [
        "count_class_NONHS, count_class_HS = df.label.value_counts()"
      ],
      "execution_count": 9,
      "outputs": []
    },
    {
      "cell_type": "code",
      "metadata": {
        "colab": {
          "base_uri": "https://localhost:8080/"
        },
        "id": "otFSm9PKlcZM",
        "outputId": "93d6a1ae-add2-4a77-b3e3-b3dca08e7d7e"
      },
      "source": [
        "count_class_NONHS"
      ],
      "execution_count": 35,
      "outputs": [
        {
          "output_type": "execute_result",
          "data": {
            "text/plain": [
              "453"
            ]
          },
          "metadata": {
            "tags": []
          },
          "execution_count": 35
        }
      ]
    },
    {
      "cell_type": "code",
      "metadata": {
        "colab": {
          "base_uri": "https://localhost:8080/"
        },
        "id": "354VD4kYleqT",
        "outputId": "343f3352-50d2-4e70-a597-fc93dcd046cb"
      },
      "source": [
        "count_class_HS"
      ],
      "execution_count": 36,
      "outputs": [
        {
          "output_type": "execute_result",
          "data": {
            "text/plain": [
              "260"
            ]
          },
          "metadata": {
            "tags": []
          },
          "execution_count": 36
        }
      ]
    },
    {
      "cell_type": "code",
      "metadata": {
        "id": "fsxpc8ovoLC_"
      },
      "source": [
        "df_class_NONHS = df[df['label'] == 'Non_HS']\n",
        "df_class_HS = df[df['label'] == 'HS']"
      ],
      "execution_count": 10,
      "outputs": []
    },
    {
      "cell_type": "code",
      "metadata": {
        "colab": {
          "base_uri": "https://localhost:8080/",
          "height": 419
        },
        "id": "aicsvXkRlLty",
        "outputId": "b0e1b544-1162-44f0-87b4-3611aec4c2df"
      },
      "source": [
        "df_class_NONHS"
      ],
      "execution_count": 33,
      "outputs": [
        {
          "output_type": "execute_result",
          "data": {
            "text/html": [
              "<div>\n",
              "<style scoped>\n",
              "    .dataframe tbody tr th:only-of-type {\n",
              "        vertical-align: middle;\n",
              "    }\n",
              "\n",
              "    .dataframe tbody tr th {\n",
              "        vertical-align: top;\n",
              "    }\n",
              "\n",
              "    .dataframe thead th {\n",
              "        text-align: right;\n",
              "    }\n",
              "</style>\n",
              "<table border=\"1\" class=\"dataframe\">\n",
              "  <thead>\n",
              "    <tr style=\"text-align: right;\">\n",
              "      <th></th>\n",
              "      <th>label</th>\n",
              "      <th>tweet</th>\n",
              "      <th>length</th>\n",
              "    </tr>\n",
              "  </thead>\n",
              "  <tbody>\n",
              "    <tr>\n",
              "      <th>0</th>\n",
              "      <td>Non_HS</td>\n",
              "      <td>RT @spardaxyz: Fadli Zon Minta Mendagri Segera...</td>\n",
              "      <td>110</td>\n",
              "    </tr>\n",
              "    <tr>\n",
              "      <th>1</th>\n",
              "      <td>Non_HS</td>\n",
              "      <td>RT @baguscondromowo: Mereka terus melukai aksi...</td>\n",
              "      <td>108</td>\n",
              "    </tr>\n",
              "    <tr>\n",
              "      <th>2</th>\n",
              "      <td>Non_HS</td>\n",
              "      <td>Sylvi: bagaimana gurbernur melakukan kekerasan...</td>\n",
              "      <td>116</td>\n",
              "    </tr>\n",
              "    <tr>\n",
              "      <th>3</th>\n",
              "      <td>Non_HS</td>\n",
              "      <td>Ahmad Dhani Tak Puas Debat Pilkada, Masalah Ja...</td>\n",
              "      <td>115</td>\n",
              "    </tr>\n",
              "    <tr>\n",
              "      <th>4</th>\n",
              "      <td>Non_HS</td>\n",
              "      <td>RT @lisdaulay28: Waspada KTP palsu.....kawal P...</td>\n",
              "      <td>79</td>\n",
              "    </tr>\n",
              "    <tr>\n",
              "      <th>...</th>\n",
              "      <td>...</td>\n",
              "      <td>...</td>\n",
              "      <td>...</td>\n",
              "    </tr>\n",
              "    <tr>\n",
              "      <th>448</th>\n",
              "      <td>Non_HS</td>\n",
              "      <td>Dalam nama Tuhan Untuk jakarta yg lebih baik</td>\n",
              "      <td>44</td>\n",
              "    </tr>\n",
              "    <tr>\n",
              "      <th>449</th>\n",
              "      <td>Non_HS</td>\n",
              "      <td>semagat buat pak Anies semoga selalu dalam rah...</td>\n",
              "      <td>59</td>\n",
              "    </tr>\n",
              "    <tr>\n",
              "      <th>450</th>\n",
              "      <td>Non_HS</td>\n",
              "      <td>semua warga DKI gunakan hak pilihmu....jangan ...</td>\n",
              "      <td>102</td>\n",
              "    </tr>\n",
              "    <tr>\n",
              "      <th>451</th>\n",
              "      <td>Non_HS</td>\n",
              "      <td>semoga Tuhan memberikan seluruh masyarakat DKI...</td>\n",
              "      <td>107</td>\n",
              "    </tr>\n",
              "    <tr>\n",
              "      <th>452</th>\n",
              "      <td>Non_HS</td>\n",
              "      <td>Eks Pendukung Agus-Sylvi di Jakarta Timur Dekl...</td>\n",
              "      <td>81</td>\n",
              "    </tr>\n",
              "  </tbody>\n",
              "</table>\n",
              "<p>453 rows × 3 columns</p>\n",
              "</div>"
            ],
            "text/plain": [
              "      label                                              tweet  length\n",
              "0    Non_HS  RT @spardaxyz: Fadli Zon Minta Mendagri Segera...     110\n",
              "1    Non_HS  RT @baguscondromowo: Mereka terus melukai aksi...     108\n",
              "2    Non_HS  Sylvi: bagaimana gurbernur melakukan kekerasan...     116\n",
              "3    Non_HS  Ahmad Dhani Tak Puas Debat Pilkada, Masalah Ja...     115\n",
              "4    Non_HS  RT @lisdaulay28: Waspada KTP palsu.....kawal P...      79\n",
              "..      ...                                                ...     ...\n",
              "448  Non_HS       Dalam nama Tuhan Untuk jakarta yg lebih baik      44\n",
              "449  Non_HS  semagat buat pak Anies semoga selalu dalam rah...      59\n",
              "450  Non_HS  semua warga DKI gunakan hak pilihmu....jangan ...     102\n",
              "451  Non_HS  semoga Tuhan memberikan seluruh masyarakat DKI...     107\n",
              "452  Non_HS  Eks Pendukung Agus-Sylvi di Jakarta Timur Dekl...      81\n",
              "\n",
              "[453 rows x 3 columns]"
            ]
          },
          "metadata": {
            "tags": []
          },
          "execution_count": 33
        }
      ]
    },
    {
      "cell_type": "code",
      "metadata": {
        "colab": {
          "base_uri": "https://localhost:8080/",
          "height": 419
        },
        "id": "T8xOFKrqlNiL",
        "outputId": "70892667-a28d-4086-cf46-83d3b54feec8"
      },
      "source": [
        "df_class_HS"
      ],
      "execution_count": 34,
      "outputs": [
        {
          "output_type": "execute_result",
          "data": {
            "text/html": [
              "<div>\n",
              "<style scoped>\n",
              "    .dataframe tbody tr th:only-of-type {\n",
              "        vertical-align: middle;\n",
              "    }\n",
              "\n",
              "    .dataframe tbody tr th {\n",
              "        vertical-align: top;\n",
              "    }\n",
              "\n",
              "    .dataframe thead th {\n",
              "        text-align: right;\n",
              "    }\n",
              "</style>\n",
              "<table border=\"1\" class=\"dataframe\">\n",
              "  <thead>\n",
              "    <tr style=\"text-align: right;\">\n",
              "      <th></th>\n",
              "      <th>label</th>\n",
              "      <th>tweet</th>\n",
              "      <th>length</th>\n",
              "    </tr>\n",
              "  </thead>\n",
              "  <tbody>\n",
              "    <tr>\n",
              "      <th>453</th>\n",
              "      <td>HS</td>\n",
              "      <td>Ini pasti salah Jokowi, Ahok dan kafir-kafir a...</td>\n",
              "      <td>78</td>\n",
              "    </tr>\n",
              "    <tr>\n",
              "      <th>454</th>\n",
              "      <td>HS</td>\n",
              "      <td>@fahmiabuazzam1 biar aja biar tai nya kena bap...</td>\n",
              "      <td>138</td>\n",
              "    </tr>\n",
              "    <tr>\n",
              "      <th>455</th>\n",
              "      <td>HS</td>\n",
              "      <td>RT @BungWinar: Angin memporakporandakan basis ...</td>\n",
              "      <td>124</td>\n",
              "    </tr>\n",
              "    <tr>\n",
              "      <th>456</th>\n",
              "      <td>HS</td>\n",
              "      <td>RT @Lupuz0503: Prestasi Ahok, \\nSelain mjadi m...</td>\n",
              "      <td>131</td>\n",
              "    </tr>\n",
              "    <tr>\n",
              "      <th>457</th>\n",
              "      <td>HS</td>\n",
              "      <td>Ulama Kompak Nyatakan #HaramPemimpinKafir Pili...</td>\n",
              "      <td>62</td>\n",
              "    </tr>\n",
              "    <tr>\n",
              "      <th>...</th>\n",
              "      <td>...</td>\n",
              "      <td>...</td>\n",
              "      <td>...</td>\n",
              "    </tr>\n",
              "    <tr>\n",
              "      <th>708</th>\n",
              "      <td>HS</td>\n",
              "      <td>Muka Si BABi Ahok Tuh Yg Mirip SERBET Lantai.....</td>\n",
              "      <td>62</td>\n",
              "    </tr>\n",
              "    <tr>\n",
              "      <th>709</th>\n",
              "      <td>HS</td>\n",
              "      <td>Betul bang hancurkan merka bang, musnahkan chi...</td>\n",
              "      <td>107</td>\n",
              "    </tr>\n",
              "    <tr>\n",
              "      <th>710</th>\n",
              "      <td>HS</td>\n",
              "      <td>Sapa Yg bilang Ahok anti korupsi!?, klo grombo...</td>\n",
              "      <td>139</td>\n",
              "    </tr>\n",
              "    <tr>\n",
              "      <th>711</th>\n",
              "      <td>HS</td>\n",
              "      <td>Gw juga ngimpi SENTILIN BIJI BABI AHOK, pcetar...</td>\n",
              "      <td>137</td>\n",
              "    </tr>\n",
              "    <tr>\n",
              "      <th>712</th>\n",
              "      <td>HS</td>\n",
              "      <td>Mudah2an gw ketemu sama SI BABI IWAN BOPENG DI...</td>\n",
              "      <td>66</td>\n",
              "    </tr>\n",
              "  </tbody>\n",
              "</table>\n",
              "<p>260 rows × 3 columns</p>\n",
              "</div>"
            ],
            "text/plain": [
              "    label                                              tweet  length\n",
              "453    HS  Ini pasti salah Jokowi, Ahok dan kafir-kafir a...      78\n",
              "454    HS  @fahmiabuazzam1 biar aja biar tai nya kena bap...     138\n",
              "455    HS  RT @BungWinar: Angin memporakporandakan basis ...     124\n",
              "456    HS  RT @Lupuz0503: Prestasi Ahok, \\nSelain mjadi m...     131\n",
              "457    HS  Ulama Kompak Nyatakan #HaramPemimpinKafir Pili...      62\n",
              "..    ...                                                ...     ...\n",
              "708    HS  Muka Si BABi Ahok Tuh Yg Mirip SERBET Lantai.....      62\n",
              "709    HS  Betul bang hancurkan merka bang, musnahkan chi...     107\n",
              "710    HS  Sapa Yg bilang Ahok anti korupsi!?, klo grombo...     139\n",
              "711    HS  Gw juga ngimpi SENTILIN BIJI BABI AHOK, pcetar...     137\n",
              "712    HS  Mudah2an gw ketemu sama SI BABI IWAN BOPENG DI...      66\n",
              "\n",
              "[260 rows x 3 columns]"
            ]
          },
          "metadata": {
            "tags": []
          },
          "execution_count": 34
        }
      ]
    },
    {
      "cell_type": "code",
      "metadata": {
        "colab": {
          "base_uri": "https://localhost:8080/"
        },
        "id": "82AgwGAoodjz",
        "outputId": "b52eea74-7e15-4301-eae1-422619927c0b"
      },
      "source": [
        "df_class_HS_over = df_class_HS.sample(count_class_NONHS, replace=True)\n",
        "df_test_over = pd.concat([df_class_NONHS, df_class_HS_over], axis=0)\n",
        "\n",
        "print('Random over-sampling:')\n",
        "print(df_test_over.label.value_counts())"
      ],
      "execution_count": 11,
      "outputs": [
        {
          "output_type": "stream",
          "text": [
            "Random over-sampling:\n",
            "Non_HS    453\n",
            "HS        453\n",
            "Name: label, dtype: int64\n"
          ],
          "name": "stdout"
        }
      ]
    },
    {
      "cell_type": "code",
      "metadata": {
        "colab": {
          "base_uri": "https://localhost:8080/",
          "height": 302
        },
        "id": "xHWI1B6prqDz",
        "outputId": "9dbf537d-372d-47de-cc42-8ca0220d16d9"
      },
      "source": [
        "fig3 = sns.countplot(x= 'label',data = df_test_over)\n",
        "plt.title('Label Counts')\n",
        "plot = fig3.get_figure()"
      ],
      "execution_count": 12,
      "outputs": [
        {
          "output_type": "display_data",
          "data": {
            "image/png": "[encoded data removed]",
            "text/plain": [
              "<Figure size 432x288 with 1 Axes>"
            ]
          },
          "metadata": {
            "tags": [],
            "needs_background": "light"
          }
        }
      ]
    },
    {
      "cell_type": "code",
      "metadata": {
        "colab": {
          "base_uri": "https://localhost:8080/",
          "height": 173
        },
        "id": "xFrbzJoVpc9p",
        "outputId": "b21df673-2737-4d02-957b-0e074d9e69aa"
      },
      "source": [
        "df_test_over.groupby('label').describe()"
      ],
      "execution_count": 13,
      "outputs": [
        {
          "output_type": "execute_result",
          "data": {
            "text/html": [
              "<div>\n",
              "<style scoped>\n",
              "    .dataframe tbody tr th:only-of-type {\n",
              "        vertical-align: middle;\n",
              "    }\n",
              "\n",
              "    .dataframe tbody tr th {\n",
              "        vertical-align: top;\n",
              "    }\n",
              "\n",
              "    .dataframe thead tr th {\n",
              "        text-align: left;\n",
              "    }\n",
              "\n",
              "    .dataframe thead tr:last-of-type th {\n",
              "        text-align: right;\n",
              "    }\n",
              "</style>\n",
              "<table border=\"1\" class=\"dataframe\">\n",
              "  <thead>\n",
              "    <tr>\n",
              "      <th></th>\n",
              "      <th colspan=\"8\" halign=\"left\">length</th>\n",
              "    </tr>\n",
              "    <tr>\n",
              "      <th></th>\n",
              "      <th>count</th>\n",
              "      <th>mean</th>\n",
              "      <th>std</th>\n",
              "      <th>min</th>\n",
              "      <th>25%</th>\n",
              "      <th>50%</th>\n",
              "      <th>75%</th>\n",
              "      <th>max</th>\n",
              "    </tr>\n",
              "    <tr>\n",
              "      <th>label</th>\n",
              "      <th></th>\n",
              "      <th></th>\n",
              "      <th></th>\n",
              "      <th></th>\n",
              "      <th></th>\n",
              "      <th></th>\n",
              "      <th></th>\n",
              "      <th></th>\n",
              "    </tr>\n",
              "  </thead>\n",
              "  <tbody>\n",
              "    <tr>\n",
              "      <th>HS</th>\n",
              "      <td>453.0</td>\n",
              "      <td>104.633554</td>\n",
              "      <td>30.879482</td>\n",
              "      <td>33.0</td>\n",
              "      <td>82.0</td>\n",
              "      <td>111.0</td>\n",
              "      <td>131.0</td>\n",
              "      <td>156.0</td>\n",
              "    </tr>\n",
              "    <tr>\n",
              "      <th>Non_HS</th>\n",
              "      <td>453.0</td>\n",
              "      <td>97.494481</td>\n",
              "      <td>29.750780</td>\n",
              "      <td>18.0</td>\n",
              "      <td>75.0</td>\n",
              "      <td>100.0</td>\n",
              "      <td>122.0</td>\n",
              "      <td>164.0</td>\n",
              "    </tr>\n",
              "  </tbody>\n",
              "</table>\n",
              "</div>"
            ],
            "text/plain": [
              "       length                                                        \n",
              "        count        mean        std   min   25%    50%    75%    max\n",
              "label                                                                \n",
              "HS      453.0  104.633554  30.879482  33.0  82.0  111.0  131.0  156.0\n",
              "Non_HS  453.0   97.494481  29.750780  18.0  75.0  100.0  122.0  164.0"
            ]
          },
          "metadata": {
            "tags": []
          },
          "execution_count": 13
        }
      ]
    },
    {
      "cell_type": "markdown",
      "metadata": {
        "id": "kkbaGk9ytbL0"
      },
      "source": [
        "Jumlah data pada kedua kategori sudah sama"
      ]
    },
    {
      "cell_type": "code",
      "metadata": {
        "colab": {
          "base_uri": "https://localhost:8080/",
          "height": 419
        },
        "id": "EKN-uUdJpob3",
        "outputId": "b6309037-9348-4dfd-ac5e-0c2c30868a24"
      },
      "source": [
        "df_test_over"
      ],
      "execution_count": 14,
      "outputs": [
        {
          "output_type": "execute_result",
          "data": {
            "text/html": [
              "<div>\n",
              "<style scoped>\n",
              "    .dataframe tbody tr th:only-of-type {\n",
              "        vertical-align: middle;\n",
              "    }\n",
              "\n",
              "    .dataframe tbody tr th {\n",
              "        vertical-align: top;\n",
              "    }\n",
              "\n",
              "    .dataframe thead th {\n",
              "        text-align: right;\n",
              "    }\n",
              "</style>\n",
              "<table border=\"1\" class=\"dataframe\">\n",
              "  <thead>\n",
              "    <tr style=\"text-align: right;\">\n",
              "      <th></th>\n",
              "      <th>label</th>\n",
              "      <th>tweet</th>\n",
              "      <th>length</th>\n",
              "    </tr>\n",
              "  </thead>\n",
              "  <tbody>\n",
              "    <tr>\n",
              "      <th>0</th>\n",
              "      <td>Non_HS</td>\n",
              "      <td>RT @spardaxyz: Fadli Zon Minta Mendagri Segera...</td>\n",
              "      <td>110</td>\n",
              "    </tr>\n",
              "    <tr>\n",
              "      <th>1</th>\n",
              "      <td>Non_HS</td>\n",
              "      <td>RT @baguscondromowo: Mereka terus melukai aksi...</td>\n",
              "      <td>108</td>\n",
              "    </tr>\n",
              "    <tr>\n",
              "      <th>2</th>\n",
              "      <td>Non_HS</td>\n",
              "      <td>Sylvi: bagaimana gurbernur melakukan kekerasan...</td>\n",
              "      <td>116</td>\n",
              "    </tr>\n",
              "    <tr>\n",
              "      <th>3</th>\n",
              "      <td>Non_HS</td>\n",
              "      <td>Ahmad Dhani Tak Puas Debat Pilkada, Masalah Ja...</td>\n",
              "      <td>115</td>\n",
              "    </tr>\n",
              "    <tr>\n",
              "      <th>4</th>\n",
              "      <td>Non_HS</td>\n",
              "      <td>RT @lisdaulay28: Waspada KTP palsu.....kawal P...</td>\n",
              "      <td>79</td>\n",
              "    </tr>\n",
              "    <tr>\n",
              "      <th>...</th>\n",
              "      <td>...</td>\n",
              "      <td>...</td>\n",
              "      <td>...</td>\n",
              "    </tr>\n",
              "    <tr>\n",
              "      <th>670</th>\n",
              "      <td>HS</td>\n",
              "      <td>Udah bingung kalik mau pakai cara apa untuk ka...</td>\n",
              "      <td>135</td>\n",
              "    </tr>\n",
              "    <tr>\n",
              "      <th>542</th>\n",
              "      <td>HS</td>\n",
              "      <td>Pendukung berarti dia bagian dr penista agama ...</td>\n",
              "      <td>81</td>\n",
              "    </tr>\n",
              "    <tr>\n",
              "      <th>691</th>\n",
              "      <td>HS</td>\n",
              "      <td>AHOK KAFIR BUKAN HANYA MALING TAPI JUGA GARONG...</td>\n",
              "      <td>139</td>\n",
              "    </tr>\n",
              "    <tr>\n",
              "      <th>494</th>\n",
              "      <td>HS</td>\n",
              "      <td>RT @Chaeruddin_B: Sekumpulan Teman Penista Aga...</td>\n",
              "      <td>142</td>\n",
              "    </tr>\n",
              "    <tr>\n",
              "      <th>507</th>\n",
              "      <td>HS</td>\n",
              "      <td>RT @HasanArisandi: #AhokPastiTumbang fakta di ...</td>\n",
              "      <td>82</td>\n",
              "    </tr>\n",
              "  </tbody>\n",
              "</table>\n",
              "<p>906 rows × 3 columns</p>\n",
              "</div>"
            ],
            "text/plain": [
              "      label                                              tweet  length\n",
              "0    Non_HS  RT @spardaxyz: Fadli Zon Minta Mendagri Segera...     110\n",
              "1    Non_HS  RT @baguscondromowo: Mereka terus melukai aksi...     108\n",
              "2    Non_HS  Sylvi: bagaimana gurbernur melakukan kekerasan...     116\n",
              "3    Non_HS  Ahmad Dhani Tak Puas Debat Pilkada, Masalah Ja...     115\n",
              "4    Non_HS  RT @lisdaulay28: Waspada KTP palsu.....kawal P...      79\n",
              "..      ...                                                ...     ...\n",
              "670      HS  Udah bingung kalik mau pakai cara apa untuk ka...     135\n",
              "542      HS  Pendukung berarti dia bagian dr penista agama ...      81\n",
              "691      HS  AHOK KAFIR BUKAN HANYA MALING TAPI JUGA GARONG...     139\n",
              "494      HS  RT @Chaeruddin_B: Sekumpulan Teman Penista Aga...     142\n",
              "507      HS  RT @HasanArisandi: #AhokPastiTumbang fakta di ...      82\n",
              "\n",
              "[906 rows x 3 columns]"
            ]
          },
          "metadata": {
            "tags": []
          },
          "execution_count": 14
        }
      ]
    },
    {
      "cell_type": "markdown",
      "metadata": {
        "id": "x1vjnPkylr2h"
      },
      "source": [
        "## Tokenizing, Filtering, Stopwords, Stemming\n"
      ]
    },
    {
      "cell_type": "code",
      "metadata": {
        "colab": {
          "base_uri": "https://localhost:8080/"
        },
        "id": "xKofIsImkkIZ",
        "outputId": "33cedabe-fc3e-4615-aa01-ae212a7c2316"
      },
      "source": [
        "! pip install Sastrawi"
      ],
      "execution_count": 15,
      "outputs": [
        {
          "output_type": "stream",
          "text": [
            "Collecting Sastrawi\n",
            "\u001b[?25l  Downloading https://files.pythonhosted.org/packages/6f/4b/bab676953da3103003730b8fcdfadbdd20f333d4add10af949dd5c51e6ed/Sastrawi-1.0.1-py2.py3-none-any.whl (209kB)\n",
            "\r\u001b[K     |█▋                              | 10kB 14.3MB/s eta 0:00:01\r\u001b[K     |███▏                            | 20kB 19.0MB/s eta 0:00:01\r\u001b[K     |████▊                           | 30kB 9.8MB/s eta 0:00:01\r\u001b[K     |██████▎                         | 40kB 8.2MB/s eta 0:00:01\r\u001b[K     |███████▉                        | 51kB 5.3MB/s eta 0:00:01\r\u001b[K     |█████████▍                      | 61kB 5.9MB/s eta 0:00:01\r\u001b[K     |███████████                     | 71kB 6.4MB/s eta 0:00:01\r\u001b[K     |████████████▌                   | 81kB 6.7MB/s eta 0:00:01\r\u001b[K     |██████████████                  | 92kB 6.1MB/s eta 0:00:01\r\u001b[K     |███████████████▋                | 102kB 6.6MB/s eta 0:00:01\r\u001b[K     |█████████████████▏              | 112kB 6.6MB/s eta 0:00:01\r\u001b[K     |██████████████████▊             | 122kB 6.6MB/s eta 0:00:01\r\u001b[K     |████████████████████▎           | 133kB 6.6MB/s eta 0:00:01\r\u001b[K     |█████████████████████▉          | 143kB 6.6MB/s eta 0:00:01\r\u001b[K     |███████████████████████▍        | 153kB 6.6MB/s eta 0:00:01\r\u001b[K     |█████████████████████████       | 163kB 6.6MB/s eta 0:00:01\r\u001b[K     |██████████████████████████▋     | 174kB 6.6MB/s eta 0:00:01\r\u001b[K     |████████████████████████████▏   | 184kB 6.6MB/s eta 0:00:01\r\u001b[K     |█████████████████████████████▊  | 194kB 6.6MB/s eta 0:00:01\r\u001b[K     |███████████████████████████████▎| 204kB 6.6MB/s eta 0:00:01\r\u001b[K     |████████████████████████████████| 215kB 6.6MB/s \n",
            "\u001b[?25hInstalling collected packages: Sastrawi\n",
            "Successfully installed Sastrawi-1.0.1\n"
          ],
          "name": "stdout"
        }
      ]
    },
    {
      "cell_type": "code",
      "metadata": {
        "id": "sVqZfy7wkmX-"
      },
      "source": [
        "from textblob import TextBlob\n",
        "import re\n",
        "import nltk\n",
        "from nltk.corpus import stopwords\n",
        "from Sastrawi.Stemmer.StemmerFactory import StemmerFactory"
      ],
      "execution_count": 16,
      "outputs": []
    },
    {
      "cell_type": "code",
      "metadata": {
        "colab": {
          "base_uri": "https://localhost:8080/"
        },
        "id": "v7NDg8eBkn8O",
        "outputId": "37e8d735-6bb7-47e7-cf22-7373fdb1f90d"
      },
      "source": [
        "nltk.download('punkt')"
      ],
      "execution_count": 17,
      "outputs": [
        {
          "output_type": "stream",
          "text": [
            "[nltk_data] Downloading package punkt to /root/nltk_data...\n",
            "[nltk_data]   Unzipping tokenizers/punkt.zip.\n"
          ],
          "name": "stdout"
        },
        {
          "output_type": "execute_result",
          "data": {
            "text/plain": [
              "True"
            ]
          },
          "metadata": {
            "tags": []
          },
          "execution_count": 17
        }
      ]
    },
    {
      "cell_type": "code",
      "metadata": {
        "colab": {
          "base_uri": "https://localhost:8080/"
        },
        "id": "w3KrZeLdkpdI",
        "outputId": "0fa26eac-e08b-4ecc-ee8f-a056ce5acfa2"
      },
      "source": [
        "nltk.download('stopwords')"
      ],
      "execution_count": 18,
      "outputs": [
        {
          "output_type": "stream",
          "text": [
            "[nltk_data] Downloading package stopwords to /root/nltk_data...\n",
            "[nltk_data]   Unzipping corpora/stopwords.zip.\n"
          ],
          "name": "stdout"
        },
        {
          "output_type": "execute_result",
          "data": {
            "text/plain": [
              "True"
            ]
          },
          "metadata": {
            "tags": []
          },
          "execution_count": 18
        }
      ]
    },
    {
      "cell_type": "code",
      "metadata": {
        "id": "VUgtGqLikrSJ"
      },
      "source": [
        "def text_processing(tweet):\n",
        "\n",
        "    # TOKENIZING\n",
        "    # Menggenerate daftar kata di tweet hastag dan tanda baca dihapus\n",
        "    def form_sentence(tweet):\n",
        "        tweet_blob = TextBlob(tweet)\n",
        "        return ' '.join(tweet_blob.words.lower())\n",
        "    new_tweet = form_sentence(tweet)\n",
        "    \n",
        "    # FILTERING\n",
        "    # Menghapus stopword dan kata-kata dengan simbol yang tidak biasa\n",
        "    # Mengubah kata-kata menjadi huruf kecil\n",
        "    def no_user_alpha(tweet):\n",
        "        tweet_list = [element for element in tweet.split() if element != '@']\n",
        "        clean_tokens = [t for t in tweet_list if re.match(r'[^\\W\\d]*$', t)]\n",
        "        clean_s = ' '.join(clean_tokens)\n",
        "        clean_mess = [word for word in clean_s.split() if word.lower() not in stopwords.words('indonesian')]\n",
        "        return clean_mess\n",
        "    no_punc_tweet = no_user_alpha(new_tweet)\n",
        "    \n",
        "    # STEMMING\n",
        "    # Melakukan stemming untuk menemukan kata dasar bahasa indonesia dari tweet\n",
        "    def normalization(tweet_list):\n",
        "        normalized_tweet = []\n",
        "        factory = StemmerFactory()\n",
        "        stemmer = factory.create_stemmer()\n",
        "        for word in tweet_list:\n",
        "            normalized_text = stemmer.stem(word)\n",
        "            normalized_tweet.append(normalized_text)\n",
        "        return normalized_tweet\n",
        "    \n",
        "    \n",
        "    return normalization(no_punc_tweet)"
      ],
      "execution_count": 19,
      "outputs": []
    },
    {
      "cell_type": "code",
      "metadata": {
        "id": "yJ8uNXNvkuqu"
      },
      "source": [
        "df_test_over['tweet_list'] = df_test_over['tweet'].apply(text_processing)"
      ],
      "execution_count": 20,
      "outputs": []
    },
    {
      "cell_type": "code",
      "metadata": {
        "colab": {
          "base_uri": "https://localhost:8080/",
          "height": 419
        },
        "id": "kydooJkWkwo_",
        "outputId": "60324feb-9308-4c0b-b50f-79785506fabc"
      },
      "source": [
        "df_test_over"
      ],
      "execution_count": 21,
      "outputs": [
        {
          "output_type": "execute_result",
          "data": {
            "text/html": [
              "<div>\n",
              "<style scoped>\n",
              "    .dataframe tbody tr th:only-of-type {\n",
              "        vertical-align: middle;\n",
              "    }\n",
              "\n",
              "    .dataframe tbody tr th {\n",
              "        vertical-align: top;\n",
              "    }\n",
              "\n",
              "    .dataframe thead th {\n",
              "        text-align: right;\n",
              "    }\n",
              "</style>\n",
              "<table border=\"1\" class=\"dataframe\">\n",
              "  <thead>\n",
              "    <tr style=\"text-align: right;\">\n",
              "      <th></th>\n",
              "      <th>label</th>\n",
              "      <th>tweet</th>\n",
              "      <th>length</th>\n",
              "      <th>tweet_list</th>\n",
              "    </tr>\n",
              "  </thead>\n",
              "  <tbody>\n",
              "    <tr>\n",
              "      <th>0</th>\n",
              "      <td>Non_HS</td>\n",
              "      <td>RT @spardaxyz: Fadli Zon Minta Mendagri Segera...</td>\n",
              "      <td>110</td>\n",
              "      <td>[rt, spardaxyz, fadli, zon, mendagri, nonaktif...</td>\n",
              "    </tr>\n",
              "    <tr>\n",
              "      <th>1</th>\n",
              "      <td>Non_HS</td>\n",
              "      <td>RT @baguscondromowo: Mereka terus melukai aksi...</td>\n",
              "      <td>108</td>\n",
              "      <td>[rt, baguscondromowo, luka, aksi, rangka, penj...</td>\n",
              "    </tr>\n",
              "    <tr>\n",
              "      <th>2</th>\n",
              "      <td>Non_HS</td>\n",
              "      <td>Sylvi: bagaimana gurbernur melakukan kekerasan...</td>\n",
              "      <td>116</td>\n",
              "      <td>[sylvi, gurbernur, keras, perempuan, bukti, fo...</td>\n",
              "    </tr>\n",
              "    <tr>\n",
              "      <th>3</th>\n",
              "      <td>Non_HS</td>\n",
              "      <td>Ahmad Dhani Tak Puas Debat Pilkada, Masalah Ja...</td>\n",
              "      <td>115</td>\n",
              "      <td>[ahmad, dhani, puas, debat, pilkada, jalan, be...</td>\n",
              "    </tr>\n",
              "    <tr>\n",
              "      <th>4</th>\n",
              "      <td>Non_HS</td>\n",
              "      <td>RT @lisdaulay28: Waspada KTP palsu.....kawal P...</td>\n",
              "      <td>79</td>\n",
              "      <td>[rt, waspada, ktp, palsu, kawal, pilkada, https]</td>\n",
              "    </tr>\n",
              "    <tr>\n",
              "      <th>...</th>\n",
              "      <td>...</td>\n",
              "      <td>...</td>\n",
              "      <td>...</td>\n",
              "      <td>...</td>\n",
              "    </tr>\n",
              "    <tr>\n",
              "      <th>670</th>\n",
              "      <td>HS</td>\n",
              "      <td>Udah bingung kalik mau pakai cara apa untuk ka...</td>\n",
              "      <td>135</td>\n",
              "      <td>[udah, bingung, kalik, pakai, kampanye, bikin,...</td>\n",
              "    </tr>\n",
              "    <tr>\n",
              "      <th>542</th>\n",
              "      <td>HS</td>\n",
              "      <td>Pendukung berarti dia bagian dr penista agama ...</td>\n",
              "      <td>81</td>\n",
              "      <td>[dukung, dr, nista, agama, dukung, gera]</td>\n",
              "    </tr>\n",
              "    <tr>\n",
              "      <th>691</th>\n",
              "      <td>HS</td>\n",
              "      <td>AHOK KAFIR BUKAN HANYA MALING TAPI JUGA GARONG...</td>\n",
              "      <td>139</td>\n",
              "      <td>[ahok, kafir, maling, garong, lahan, laut, mil...</td>\n",
              "    </tr>\n",
              "    <tr>\n",
              "      <th>494</th>\n",
              "      <td>HS</td>\n",
              "      <td>RT @Chaeruddin_B: Sekumpulan Teman Penista Aga...</td>\n",
              "      <td>142</td>\n",
              "      <td>[rt, chaeruddin b, kumpul, teman, nista, empat...</td>\n",
              "    </tr>\n",
              "    <tr>\n",
              "      <th>507</th>\n",
              "      <td>HS</td>\n",
              "      <td>RT @HasanArisandi: #AhokPastiTumbang fakta di ...</td>\n",
              "      <td>82</td>\n",
              "      <td>[rt, hasanarisandi, ahokpastitumbang, fakta, b...</td>\n",
              "    </tr>\n",
              "  </tbody>\n",
              "</table>\n",
              "<p>906 rows × 4 columns</p>\n",
              "</div>"
            ],
            "text/plain": [
              "      label  ...                                         tweet_list\n",
              "0    Non_HS  ...  [rt, spardaxyz, fadli, zon, mendagri, nonaktif...\n",
              "1    Non_HS  ...  [rt, baguscondromowo, luka, aksi, rangka, penj...\n",
              "2    Non_HS  ...  [sylvi, gurbernur, keras, perempuan, bukti, fo...\n",
              "3    Non_HS  ...  [ahmad, dhani, puas, debat, pilkada, jalan, be...\n",
              "4    Non_HS  ...   [rt, waspada, ktp, palsu, kawal, pilkada, https]\n",
              "..      ...  ...                                                ...\n",
              "670      HS  ...  [udah, bingung, kalik, pakai, kampanye, bikin,...\n",
              "542      HS  ...           [dukung, dr, nista, agama, dukung, gera]\n",
              "691      HS  ...  [ahok, kafir, maling, garong, lahan, laut, mil...\n",
              "494      HS  ...  [rt, chaeruddin b, kumpul, teman, nista, empat...\n",
              "507      HS  ...  [rt, hasanarisandi, ahokpastitumbang, fakta, b...\n",
              "\n",
              "[906 rows x 4 columns]"
            ]
          },
          "metadata": {
            "tags": []
          },
          "execution_count": 21
        }
      ]
    },
    {
      "cell_type": "markdown",
      "metadata": {
        "id": "MiPfzYIumhTV"
      },
      "source": [
        "Data telah selesai di pre-process"
      ]
    },
    {
      "cell_type": "markdown",
      "metadata": {
        "id": "dIgGkF1Emmck"
      },
      "source": [
        "# Training & Test Data\n"
      ]
    },
    {
      "cell_type": "code",
      "metadata": {
        "id": "uprizDHukz4-"
      },
      "source": [
        "X = df_test_over['tweet']\n",
        "y = df_test_over['label']"
      ],
      "execution_count": 22,
      "outputs": []
    },
    {
      "cell_type": "code",
      "metadata": {
        "id": "EV3TzUeJm_bD"
      },
      "source": [
        "from sklearn.model_selection import train_test_split\n",
        "X_train, X_test, y_train, y_test = train_test_split(X, y, test_size=0.2)"
      ],
      "execution_count": 23,
      "outputs": []
    },
    {
      "cell_type": "markdown",
      "metadata": {
        "id": "loxBRfnpmuue"
      },
      "source": [
        "Klasifikasi dilakukan dengan menggunakan 3 algoritma yakni Random Forest, Multinomial Naive Bayes, dan KNN "
      ]
    },
    {
      "cell_type": "code",
      "metadata": {
        "id": "p8LvE2Uks_6K"
      },
      "source": [
        "from sklearn.ensemble import RandomForestClassifier\n",
        "from sklearn.naive_bayes import MultinomialNB\n",
        "from sklearn.neighbors import KNeighborsClassifier\n",
        "\n",
        "from sklearn.pipeline import Pipeline\n",
        "from sklearn.feature_extraction.text import CountVectorizer, TfidfTransformer"
      ],
      "execution_count": 24,
      "outputs": []
    },
    {
      "cell_type": "code",
      "metadata": {
        "colab": {
          "base_uri": "https://localhost:8080/"
        },
        "id": "DeX_RO1ztC0A",
        "outputId": "73222bdd-c286-4662-9fea-47b18b3d0466"
      },
      "source": [
        "#Machine Learning Pipeline Random Forest\n",
        "pipeline_rnf = Pipeline([\n",
        "    ('bow',CountVectorizer(analyzer=text_processing)),  # strings to token integer counts\n",
        "    ('tfidf', TfidfTransformer()),  # integer counts to weighted TF-IDF scores\n",
        "    ('classifier', RandomForestClassifier(n_estimators=100)),  # train on TF-IDF vectors w/ Naive Bayes classifier\n",
        "])\n",
        "pipeline_rnf.fit(X_train,y_train)"
      ],
      "execution_count": 25,
      "outputs": [
        {
          "output_type": "execute_result",
          "data": {
            "text/plain": [
              "Pipeline(memory=None,\n",
              "         steps=[('bow',\n",
              "                 CountVectorizer(analyzer=<function text_processing at 0x7fb6d92d8598>,\n",
              "                                 binary=False, decode_error='strict',\n",
              "                                 dtype=<class 'numpy.int64'>, encoding='utf-8',\n",
              "                                 input='content', lowercase=True, max_df=1.0,\n",
              "                                 max_features=None, min_df=1,\n",
              "                                 ngram_range=(1, 1), preprocessor=None,\n",
              "                                 stop_words=None, strip_accents=None,\n",
              "                                 token_pattern='(?u)\\\\b\\\\w\\\\w+...\n",
              "                 RandomForestClassifier(bootstrap=True, ccp_alpha=0.0,\n",
              "                                        class_weight=None, criterion='gini',\n",
              "                                        max_depth=None, max_features='auto',\n",
              "                                        max_leaf_nodes=None, max_samples=None,\n",
              "                                        min_impurity_decrease=0.0,\n",
              "                                        min_impurity_split=None,\n",
              "                                        min_samples_leaf=1, min_samples_split=2,\n",
              "                                        min_weight_fraction_leaf=0.0,\n",
              "                                        n_estimators=100, n_jobs=None,\n",
              "                                        oob_score=False, random_state=None,\n",
              "                                        verbose=0, warm_start=False))],\n",
              "         verbose=False)"
            ]
          },
          "metadata": {
            "tags": []
          },
          "execution_count": 25
        }
      ]
    },
    {
      "cell_type": "code",
      "metadata": {
        "colab": {
          "base_uri": "https://localhost:8080/"
        },
        "id": "EJq62bmxtFAM",
        "outputId": "d3c54990-2a0f-4142-8012-13eb07b979f0"
      },
      "source": [
        "#Machine Learning Pipeline Multinomial Naive Bayes\n",
        "pipeline_mnb = Pipeline([\n",
        "    ('bow',CountVectorizer(analyzer=text_processing)),  # strings to token integer counts\n",
        "    ('tfidf', TfidfTransformer()),  # integer counts to weighted TF-IDF scores\n",
        "    ('classifier', MultinomialNB()),  # train on TF-IDF vectors w/ Naive Bayes classifier\n",
        "])\n",
        "pipeline_mnb.fit(X_train,y_train)"
      ],
      "execution_count": 26,
      "outputs": [
        {
          "output_type": "execute_result",
          "data": {
            "text/plain": [
              "Pipeline(memory=None,\n",
              "         steps=[('bow',\n",
              "                 CountVectorizer(analyzer=<function text_processing at 0x7fb6d92d8598>,\n",
              "                                 binary=False, decode_error='strict',\n",
              "                                 dtype=<class 'numpy.int64'>, encoding='utf-8',\n",
              "                                 input='content', lowercase=True, max_df=1.0,\n",
              "                                 max_features=None, min_df=1,\n",
              "                                 ngram_range=(1, 1), preprocessor=None,\n",
              "                                 stop_words=None, strip_accents=None,\n",
              "                                 token_pattern='(?u)\\\\b\\\\w\\\\w+\\\\b',\n",
              "                                 tokenizer=None, vocabulary=None)),\n",
              "                ('tfidf',\n",
              "                 TfidfTransformer(norm='l2', smooth_idf=True,\n",
              "                                  sublinear_tf=False, use_idf=True)),\n",
              "                ('classifier',\n",
              "                 MultinomialNB(alpha=1.0, class_prior=None, fit_prior=True))],\n",
              "         verbose=False)"
            ]
          },
          "metadata": {
            "tags": []
          },
          "execution_count": 26
        }
      ]
    },
    {
      "cell_type": "code",
      "metadata": {
        "colab": {
          "base_uri": "https://localhost:8080/"
        },
        "id": "FVjVlBqYtG5N",
        "outputId": "6721b0ac-48ab-48ce-beb9-3ed33089d8a2"
      },
      "source": [
        "#Machine Learning Pipeline KNN\n",
        "pipeline_knn = Pipeline([\n",
        "    ('bow',CountVectorizer(analyzer=text_processing)),  # strings to token integer counts\n",
        "    ('tfidf', TfidfTransformer()),  # integer counts to weighted TF-IDF scores\n",
        "    ('classifier', KNeighborsClassifier(n_neighbors=2)),  # train on TF-IDF vectors w/ Naive Bayes classifier\n",
        "])\n",
        "pipeline_knn.fit(X_train,y_train)"
      ],
      "execution_count": 27,
      "outputs": [
        {
          "output_type": "execute_result",
          "data": {
            "text/plain": [
              "Pipeline(memory=None,\n",
              "         steps=[('bow',\n",
              "                 CountVectorizer(analyzer=<function text_processing at 0x7fb6d92d8598>,\n",
              "                                 binary=False, decode_error='strict',\n",
              "                                 dtype=<class 'numpy.int64'>, encoding='utf-8',\n",
              "                                 input='content', lowercase=True, max_df=1.0,\n",
              "                                 max_features=None, min_df=1,\n",
              "                                 ngram_range=(1, 1), preprocessor=None,\n",
              "                                 stop_words=None, strip_accents=None,\n",
              "                                 token_pattern='(?u)\\\\b\\\\w\\\\w+\\\\b',\n",
              "                                 tokenizer=None, vocabulary=None)),\n",
              "                ('tfidf',\n",
              "                 TfidfTransformer(norm='l2', smooth_idf=True,\n",
              "                                  sublinear_tf=False, use_idf=True)),\n",
              "                ('classifier',\n",
              "                 KNeighborsClassifier(algorithm='auto', leaf_size=30,\n",
              "                                      metric='minkowski', metric_params=None,\n",
              "                                      n_jobs=None, n_neighbors=2, p=2,\n",
              "                                      weights='uniform'))],\n",
              "         verbose=False)"
            ]
          },
          "metadata": {
            "tags": []
          },
          "execution_count": 27
        }
      ]
    },
    {
      "cell_type": "markdown",
      "metadata": {
        "id": "RiPMQGqNbV1i"
      },
      "source": [
        "# Evaluasi"
      ]
    },
    {
      "cell_type": "code",
      "metadata": {
        "id": "ZDLxvLeRtI8L"
      },
      "source": [
        "from sklearn import metrics"
      ],
      "execution_count": 28,
      "outputs": []
    },
    {
      "cell_type": "code",
      "metadata": {
        "colab": {
          "base_uri": "https://localhost:8080/"
        },
        "id": "01zvBENWtLUB",
        "outputId": "1dfd3149-e987-4818-d327-5370ed000d96"
      },
      "source": [
        "predictions_rnf = pipeline_rnf.predict(X_test)\n",
        "\n",
        "print(\"==== Random Forest ====\")\n",
        "print(metrics.classification_report(predictions_rnf,y_test))\n",
        "print ('\\n')\n",
        "print(metrics.confusion_matrix(predictions_rnf,y_test))\n",
        "print(metrics.accuracy_score(predictions_rnf,y_test))"
      ],
      "execution_count": 29,
      "outputs": [
        {
          "output_type": "stream",
          "text": [
            "==== Random Forest ====\n",
            "              precision    recall  f1-score   support\n",
            "\n",
            "          HS       0.91      0.95      0.93        87\n",
            "      Non_HS       0.96      0.92      0.94        95\n",
            "\n",
            "    accuracy                           0.93       182\n",
            "   macro avg       0.93      0.93      0.93       182\n",
            "weighted avg       0.94      0.93      0.93       182\n",
            "\n",
            "\n",
            "\n",
            "[[83  4]\n",
            " [ 8 87]]\n",
            "0.9340659340659341\n"
          ],
          "name": "stdout"
        }
      ]
    },
    {
      "cell_type": "code",
      "metadata": {
        "colab": {
          "base_uri": "https://localhost:8080/"
        },
        "id": "UFkNCrsLtNnB",
        "outputId": "30828fce-8460-44f4-863f-d0f5bcc7ef69"
      },
      "source": [
        "predictions_mnb = pipeline_mnb.predict(X_test)\n",
        "\n",
        "print(\"==== Multinomial Naive Bayes ====\")\n",
        "print(metrics.classification_report(predictions_mnb,y_test))\n",
        "print ('\\n')\n",
        "print(metrics.confusion_matrix(predictions_mnb,y_test))\n",
        "print(metrics.accuracy_score(predictions_mnb,y_test))"
      ],
      "execution_count": 30,
      "outputs": [
        {
          "output_type": "stream",
          "text": [
            "==== Multinomial Naive Bayes ====\n",
            "              precision    recall  f1-score   support\n",
            "\n",
            "          HS       0.96      0.89      0.92        98\n",
            "      Non_HS       0.88      0.95      0.91        84\n",
            "\n",
            "    accuracy                           0.92       182\n",
            "   macro avg       0.92      0.92      0.92       182\n",
            "weighted avg       0.92      0.92      0.92       182\n",
            "\n",
            "\n",
            "\n",
            "[[87 11]\n",
            " [ 4 80]]\n",
            "0.9175824175824175\n"
          ],
          "name": "stdout"
        }
      ]
    },
    {
      "cell_type": "code",
      "metadata": {
        "colab": {
          "base_uri": "https://localhost:8080/"
        },
        "id": "Py_9OwzStQDk",
        "outputId": "4b3ea453-05b8-4244-8763-caa980f24636"
      },
      "source": [
        "predictions_knn = pipeline_knn.predict(X_test)\n",
        "\n",
        "print(\"==== KNN ====\")\n",
        "print(metrics.classification_report(predictions_knn,y_test))\n",
        "print ('\\n')\n",
        "print(metrics.confusion_matrix(predictions_knn,y_test))\n",
        "print(metrics.accuracy_score(predictions_knn,y_test))"
      ],
      "execution_count": 31,
      "outputs": [
        {
          "output_type": "stream",
          "text": [
            "==== KNN ====\n",
            "              precision    recall  f1-score   support\n",
            "\n",
            "          HS       0.91      0.79      0.85       105\n",
            "      Non_HS       0.76      0.90      0.82        77\n",
            "\n",
            "    accuracy                           0.84       182\n",
            "   macro avg       0.84      0.84      0.83       182\n",
            "weighted avg       0.85      0.84      0.84       182\n",
            "\n",
            "\n",
            "\n",
            "[[83 22]\n",
            " [ 8 69]]\n",
            "0.8351648351648352\n"
          ],
          "name": "stdout"
        }
      ]
    },
    {
      "cell_type": "markdown",
      "metadata": {
        "id": "PmaP7DQvbYeu"
      },
      "source": [
        "Algoritma Random Forest memiliki akurasi paling tinggi dalam melakukan prediksi dengan nilai akurasi 0.93. "
      ]
    }
  ]
}